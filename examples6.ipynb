{
 "cells": [
  {
   "cell_type": "code",
   "execution_count": 9,
   "metadata": {},
   "outputs": [
    {
     "name": "stdout",
     "output_type": "stream",
     "text": [
      "<class 'numpy.ndarray'>\n",
      "(15, 2)\n",
      "[[8.805800e-01 4.402900e-02]\n",
      " [1.572470e+00 7.862350e-02]\n",
      " [6.561540e+00 3.280770e-01]\n",
      " [1.567080e+01 7.835400e-01]\n",
      " [2.316310e+01 1.158155e+00]\n",
      " [0.000000e+00 9.900000e+99]\n",
      " [0.000000e+00 9.900000e+99]\n",
      " [3.790730e+01 1.895365e+00]\n",
      " [5.483620e+01 2.741810e+00]\n",
      " [0.000000e+00 9.900000e+99]\n",
      " [0.000000e+00 9.900000e+99]\n",
      " [7.636190e+01 7.636190e+00]\n",
      " [5.892980e+01 5.892980e+00]\n",
      " [4.955860e+01 4.955860e+00]\n",
      " [3.596970e+01 3.596970e+00]]\n"
     ]
    }
   ],
   "source": [
    "import numpy as np \n",
    "import bagpipes as pipes\n",
    "\n",
    "from astropy.io import fits\n",
    "\n",
    "#load the filter curves\n",
    "def load_goodss(ID):\n",
    "    \"\"\" Load CANDELS GOODS South photometry from the Guo et al. (2013) catalogue. \"\"\"\n",
    "\n",
    "    # load up the relevant columns from the catalogue.\n",
    "    cat = np.loadtxt(\"hlsp_candels_hst_wfc3_goodss-tot-multiband_f160w_v1-1photom_cat.txt\",\n",
    "                     usecols=(10, 13, 16, 19, 25, 28, 31, 34, 37, 40, 43, 46, 49, 52, 55,\n",
    "                              11, 14, 17, 20, 26, 29, 32, 35, 38, 41, 44, 47, 50, 53, 56))\n",
    "    \n",
    "    # Find the correct row for the object we want.\n",
    "    row = int(ID) - 1\n",
    "\n",
    "    # Extract the object we want from the catalogue.\n",
    "    fluxes = cat[row, :15]\n",
    "    fluxerrs = cat[row, 15:]\n",
    "\n",
    "    # Turn these into a 2D array.\n",
    "    photometry = np.c_[fluxes, fluxerrs]\n",
    "\n",
    "    # blow up the errors associated with any missing fluxes.\n",
    "    for i in range(len(photometry)):\n",
    "        if (photometry[i, 0] == 0.) or (photometry[i, 1] <= 0):\n",
    "            photometry[i,:] = [0., 9.9*10**99.]\n",
    "            \n",
    "    # Enforce a maximum SNR of 20, or 10 in the IRAC channels.\n",
    "    for i in range(len(photometry)):\n",
    "        if i < 10:\n",
    "            max_snr = 20.\n",
    "            \n",
    "        else:\n",
    "            max_snr = 10.\n",
    "        \n",
    "        if photometry[i, 0]/photometry[i, 1] > max_snr:\n",
    "            photometry[i, 1] = photometry[i, 0]/max_snr\n",
    "\n",
    "    return photometry\n",
    "\n",
    "goodss_filt_list = np.loadtxt(\"filters1/goodss_filt_list.txt\", dtype=\"str\")\n",
    "\n",
    "#dictionary for fit instructions\n",
    "exp = {}                                  \n",
    "exp[\"age\"] = (0.1, 15.)\n",
    "exp[\"tau\"] = (0.3, 10.)\n",
    "exp[\"massformed\"] = (1., 15.)\n",
    "exp[\"metallicity\"] = (0., 2.5)\n",
    "\n",
    "dust = {}\n",
    "dust[\"type\"] = \"Calzetti\"\n",
    "dust[\"Av\"] = (0., 2.)\n",
    "\n",
    "fit_instructions = {}\n",
    "fit_instructions[\"redshift\"] = (0., 10.)\n",
    "fit_instructions[\"exponential\"] = exp   \n",
    "fit_instructions[\"dust\"] = dust\n",
    "\n",
    "phot = load_goodss(1)  # or 2 or 3\n",
    "print(type(phot))\n",
    "print(phot.shape)\n",
    "print(phot)\n",
    "\n"
   ]
  },
  {
   "cell_type": "code",
   "execution_count": 10,
   "metadata": {},
   "outputs": [
    {
     "name": "stderr",
     "output_type": "stream",
     "text": [
      "WARNING: VerifyWarning: It is strongly recommended that column names contain only upper and lower-case ASCII letters, digits, or underscores for maximum compatibility with other software (got '#ID'). [astropy.io.fits.column]\n"
     ]
    }
   ],
   "source": [
    "IDs = np.arange(1, 4, dtype=int)\n",
    "\n",
    "fit_cat = pipes.fit_catalogue(IDs, fit_instructions, load_goodss, spectrum_exists=False,\n",
    "                              cat_filt_list=goodss_filt_list, run=\"guo_cat\")\n",
    "\n",
    "fit_cat.fit(verbose=False)"
   ]
  },
  {
   "cell_type": "markdown",
   "metadata": {},
   "source": [
    "# BAGPIPES fitting for my mini catalgoue"
   ]
  },
  {
   "cell_type": "code",
   "execution_count": 6,
   "metadata": {},
   "outputs": [],
   "source": [
    "#trying this but for my mini cat of n galaxies\n",
    "\n",
    "import numpy as np \n",
    "import bagpipes as pipes\n",
    "from astropy.table import Table\n",
    "from astropy.io import fits\n",
    "\n",
    "#load the filter curves\n",
    "def load_goodss(ID):\n",
    "    \"\"\" Load catalogue. \"\"\"\n",
    "\n",
    "    # load up the relevant columns from the catalogue.\n",
    "    cat = Table.read(\"mini_cat_20galaxiesonly.fits\") \n",
    "\n",
    "    \n",
    "    # Find the correct row for the object we want.\n",
    "    row = int(ID) - 1\n",
    "\n",
    "    filters = Table.read('wavelengths_filters.csv', format='csv')\n",
    "    # Extract filter names\n",
    "    filters_list = filters['flux_filter'].tolist()\n",
    "\n",
    "    # Build column names for fluxes and flux errors\n",
    "    flux_columns = [f'FLUX_APER_{f}_aper_corr_Jy' for f in filters_list]\n",
    "    fluxerr_columns = [f'FLUXERR_APER_{f}_loc_depth_10pc_Jy' for f in filters_list]\n",
    "     # Extract fluxes and errors for this galaxy from the catalogue\n",
    "    fluxes = np.array([cat[row][col] for col in flux_columns])\n",
    "    fluxes = np.where(fluxes > 0, fluxes, np.nan)\n",
    "    fluxerrs = np.array([cat[row][col] if not np.ma.is_masked(cat[row][col]) else np.nan for col in fluxerr_columns])\n",
    "\n",
    "\n",
    "    # Turn these into a 2D array.\n",
    "    photometry = np.c_[fluxes, fluxerrs]\n",
    "\n",
    "    # blow up the errors associated with any missing fluxes.\n",
    "    for i in range(len(photometry)):\n",
    "        if (photometry[i, 0] == 0.) or (photometry[i, 1] <= 0) or np.isnan(photometry[i, 0]) or np.isnan(photometry[i, 1]):\n",
    "            photometry[i,:] = [0., 9.9*10**99.]\n",
    "            \n",
    "    # Enforce a maximum SNR of 20, or 10 in the IRAC channels.\n",
    "    for i in range(len(photometry)):\n",
    "        if i < 10:\n",
    "            max_snr = 20.\n",
    "            \n",
    "        else:\n",
    "            max_snr = 10.\n",
    "        \n",
    "        if photometry[i, 0]/photometry[i, 1] > max_snr:\n",
    "            photometry[i, 1] = photometry[i, 0]/max_snr\n",
    "\n",
    "    return photometry\n",
    "\n",
    "goodss_filt_list = np.loadtxt(\"filters1/goodss_filt_list1.txt\", dtype=\"str\")\n",
    "\n",
    "#dictionary for fit instructions\n",
    "exp = {}                                  \n",
    "exp[\"age\"] = (0.1, 15.)\n",
    "exp[\"tau\"] = (0.3, 10.)\n",
    "exp[\"massformed\"] = (1., 15.)\n",
    "exp[\"metallicity\"] = (0., 2.5)\n",
    "\n",
    "# lognorm = {}                       # lognormal SFH\n",
    "# lognorm[\"tmax\"] = (0.01, 15) # these will default to a flat prior probably\n",
    "# lognorm['fwhm'] = (0.01, 15) \n",
    "# lognorm[\"massformed\"] = (5., 12.)  # Log_10 total stellar mass formed: M_Solar\n",
    "\n",
    "dust = {}\n",
    "dust[\"type\"] = \"Calzetti\"\n",
    "dust[\"Av\"] = (0., 2.)\n",
    "\n",
    "fit_instructions = {}\n",
    "fit_instructions[\"redshift\"] = (0., 10.)\n",
    "fit_instructions[\"exponential\"] = exp\n",
    "fit_instructions[\"dust\"] = dust\n"
   ]
  },
  {
   "cell_type": "code",
   "execution_count": 7,
   "metadata": {},
   "outputs": [
    {
     "name": "stdout",
     "output_type": "stream",
     "text": [
      "\n",
      "Bagpipes: fitting object 1\n",
      "\n"
     ]
    },
    {
     "ename": "NameError",
     "evalue": "name 'pmn' is not defined",
     "output_type": "error",
     "traceback": [
      "\u001b[0;31m---------------------------------------------------------------------------\u001b[0m",
      "\u001b[0;31mNameError\u001b[0m                                 Traceback (most recent call last)",
      "Cell \u001b[0;32mIn[7], line 6\u001b[0m\n\u001b[1;32m      1\u001b[0m IDs \u001b[38;5;241m=\u001b[39m np\u001b[38;5;241m.\u001b[39marange(\u001b[38;5;241m1\u001b[39m, \u001b[38;5;241m21\u001b[39m, dtype\u001b[38;5;241m=\u001b[39m\u001b[38;5;28mint\u001b[39m)\n\u001b[1;32m      3\u001b[0m fit_cat \u001b[38;5;241m=\u001b[39m pipes\u001b[38;5;241m.\u001b[39mfit_catalogue(IDs, fit_instructions, load_goodss, spectrum_exists\u001b[38;5;241m=\u001b[39m\u001b[38;5;28;01mFalse\u001b[39;00m,\n\u001b[1;32m      4\u001b[0m                               cat_filt_list\u001b[38;5;241m=\u001b[39mgoodss_filt_list, run\u001b[38;5;241m=\u001b[39m\u001b[38;5;124m\"\u001b[39m\u001b[38;5;124mmini_cat_20_gals_lognormal\u001b[39m\u001b[38;5;124m\"\u001b[39m)\n\u001b[0;32m----> 6\u001b[0m \u001b[43mfit_cat\u001b[49m\u001b[38;5;241;43m.\u001b[39;49m\u001b[43mfit\u001b[49m\u001b[43m(\u001b[49m\u001b[43mverbose\u001b[49m\u001b[38;5;241;43m=\u001b[39;49m\u001b[38;5;28;43;01mFalse\u001b[39;49;00m\u001b[43m)\u001b[49m\n",
      "File \u001b[0;32m/nvme/scratch/software/anaconda3/lib/python3.9/site-packages/bagpipes/catalogue/fit_catalogue.py:184\u001b[0m, in \u001b[0;36mfit_catalogue.fit\u001b[0;34m(self, verbose, n_live, mpi_serial, track_backlog)\u001b[0m\n\u001b[1;32m    181\u001b[0m     \u001b[38;5;28;01mcontinue\u001b[39;00m\n\u001b[1;32m    183\u001b[0m \u001b[38;5;66;03m# If not fit the object and update the output catalogue\u001b[39;00m\n\u001b[0;32m--> 184\u001b[0m \u001b[38;5;28;43mself\u001b[39;49m\u001b[38;5;241;43m.\u001b[39;49m\u001b[43m_fit_object\u001b[49m\u001b[43m(\u001b[49m\u001b[38;5;28;43mself\u001b[39;49m\u001b[38;5;241;43m.\u001b[39;49m\u001b[43mIDs\u001b[49m\u001b[43m[\u001b[49m\u001b[43mi\u001b[49m\u001b[43m]\u001b[49m\u001b[43m,\u001b[49m\u001b[43m \u001b[49m\u001b[43mverbose\u001b[49m\u001b[38;5;241;43m=\u001b[39;49m\u001b[43mverbose\u001b[49m\u001b[43m,\u001b[49m\u001b[43m \u001b[49m\u001b[43mn_live\u001b[49m\u001b[38;5;241;43m=\u001b[39;49m\u001b[43mn_live\u001b[49m\u001b[43m)\u001b[49m\n\u001b[1;32m    186\u001b[0m \u001b[38;5;28mself\u001b[39m\u001b[38;5;241m.\u001b[39mdone[i] \u001b[38;5;241m=\u001b[39m \u001b[38;5;28;01mTrue\u001b[39;00m\n\u001b[1;32m    188\u001b[0m \u001b[38;5;66;03m# Save the updated output catalogue.\u001b[39;00m\n",
      "File \u001b[0;32m/nvme/scratch/software/anaconda3/lib/python3.9/site-packages/bagpipes/catalogue/fit_catalogue.py:307\u001b[0m, in \u001b[0;36mfit_catalogue._fit_object\u001b[0;34m(self, ID, verbose, n_live, use_MPI)\u001b[0m\n\u001b[1;32m    302\u001b[0m \u001b[38;5;66;03m# Fit the object\u001b[39;00m\n\u001b[1;32m    303\u001b[0m \u001b[38;5;28mself\u001b[39m\u001b[38;5;241m.\u001b[39mobj_fit \u001b[38;5;241m=\u001b[39m fit(\u001b[38;5;28mself\u001b[39m\u001b[38;5;241m.\u001b[39mgalaxy, \u001b[38;5;28mself\u001b[39m\u001b[38;5;241m.\u001b[39mfit_instructions, run\u001b[38;5;241m=\u001b[39m\u001b[38;5;28mself\u001b[39m\u001b[38;5;241m.\u001b[39mrun,\n\u001b[1;32m    304\u001b[0m                    time_calls\u001b[38;5;241m=\u001b[39m\u001b[38;5;28mself\u001b[39m\u001b[38;5;241m.\u001b[39mtime_calls,\n\u001b[1;32m    305\u001b[0m                    n_posterior\u001b[38;5;241m=\u001b[39m\u001b[38;5;28mself\u001b[39m\u001b[38;5;241m.\u001b[39mn_posterior)\n\u001b[0;32m--> 307\u001b[0m \u001b[38;5;28;43mself\u001b[39;49m\u001b[38;5;241;43m.\u001b[39;49m\u001b[43mobj_fit\u001b[49m\u001b[38;5;241;43m.\u001b[39;49m\u001b[43mfit\u001b[49m\u001b[43m(\u001b[49m\u001b[43mverbose\u001b[49m\u001b[38;5;241;43m=\u001b[39;49m\u001b[43mverbose\u001b[49m\u001b[43m,\u001b[49m\u001b[43m \u001b[49m\u001b[43mn_live\u001b[49m\u001b[38;5;241;43m=\u001b[39;49m\u001b[43mn_live\u001b[49m\u001b[43m,\u001b[49m\u001b[43m \u001b[49m\u001b[43muse_MPI\u001b[49m\u001b[38;5;241;43m=\u001b[39;49m\u001b[43muse_MPI\u001b[49m\u001b[43m)\u001b[49m\n\u001b[1;32m    309\u001b[0m \u001b[38;5;28;01mif\u001b[39;00m rank \u001b[38;5;241m==\u001b[39m \u001b[38;5;241m0\u001b[39m:\n\u001b[1;32m    310\u001b[0m     \u001b[38;5;28;01mif\u001b[39;00m \u001b[38;5;28mself\u001b[39m\u001b[38;5;241m.\u001b[39mvars \u001b[38;5;129;01mis\u001b[39;00m \u001b[38;5;28;01mNone\u001b[39;00m:\n",
      "File \u001b[0;32m/nvme/scratch/software/anaconda3/lib/python3.9/site-packages/bagpipes/fitting/fit.py:123\u001b[0m, in \u001b[0;36mfit.fit\u001b[0;34m(self, verbose, n_live, use_MPI)\u001b[0m\n\u001b[1;32m    121\u001b[0m \u001b[38;5;28;01mwith\u001b[39;00m warnings\u001b[38;5;241m.\u001b[39mcatch_warnings():\n\u001b[1;32m    122\u001b[0m     warnings\u001b[38;5;241m.\u001b[39msimplefilter(\u001b[38;5;124m\"\u001b[39m\u001b[38;5;124mignore\u001b[39m\u001b[38;5;124m\"\u001b[39m)\n\u001b[0;32m--> 123\u001b[0m     \u001b[43mpmn\u001b[49m\u001b[38;5;241m.\u001b[39mrun(\u001b[38;5;28mself\u001b[39m\u001b[38;5;241m.\u001b[39mfitted_model\u001b[38;5;241m.\u001b[39mlnlike,\n\u001b[1;32m    124\u001b[0m             \u001b[38;5;28mself\u001b[39m\u001b[38;5;241m.\u001b[39mfitted_model\u001b[38;5;241m.\u001b[39mprior\u001b[38;5;241m.\u001b[39mtransform,\n\u001b[1;32m    125\u001b[0m             \u001b[38;5;28mself\u001b[39m\u001b[38;5;241m.\u001b[39mfitted_model\u001b[38;5;241m.\u001b[39mndim, n_live_points\u001b[38;5;241m=\u001b[39mn_live,\n\u001b[1;32m    126\u001b[0m             importance_nested_sampling\u001b[38;5;241m=\u001b[39m\u001b[38;5;28;01mFalse\u001b[39;00m, verbose\u001b[38;5;241m=\u001b[39mverbose,\n\u001b[1;32m    127\u001b[0m             sampling_efficiency\u001b[38;5;241m=\u001b[39m\u001b[38;5;124m\"\u001b[39m\u001b[38;5;124mmodel\u001b[39m\u001b[38;5;124m\"\u001b[39m,\n\u001b[1;32m    128\u001b[0m             outputfiles_basename\u001b[38;5;241m=\u001b[39m\u001b[38;5;28mself\u001b[39m\u001b[38;5;241m.\u001b[39mfname, use_MPI\u001b[38;5;241m=\u001b[39muse_MPI)\n\u001b[1;32m    130\u001b[0m \u001b[38;5;28;01mif\u001b[39;00m rank \u001b[38;5;241m==\u001b[39m \u001b[38;5;241m0\u001b[39m \u001b[38;5;129;01mor\u001b[39;00m \u001b[38;5;129;01mnot\u001b[39;00m use_MPI:\n\u001b[1;32m    131\u001b[0m     runtime \u001b[38;5;241m=\u001b[39m time\u001b[38;5;241m.\u001b[39mtime() \u001b[38;5;241m-\u001b[39m start_time\n",
      "\u001b[0;31mNameError\u001b[0m: name 'pmn' is not defined"
     ]
    }
   ],
   "source": [
    "IDs = np.arange(1, 21, dtype=int)\n",
    "\n",
    "fit_cat = pipes.fit_catalogue(IDs, fit_instructions, load_goodss, spectrum_exists=False,\n",
    "                              cat_filt_list=goodss_filt_list, run=\"mini_cat_20_gals_lognormal\")\n",
    "\n",
    "fit_cat.fit(verbose=False)"
   ]
  }
 ],
 "metadata": {
  "kernelspec": {
   "display_name": "tharvey_galfind",
   "language": "python",
   "name": "python3"
  },
  "language_info": {
   "codemirror_mode": {
    "name": "ipython",
    "version": 3
   },
   "file_extension": ".py",
   "mimetype": "text/x-python",
   "name": "python",
   "nbconvert_exporter": "python",
   "pygments_lexer": "ipython3",
   "version": "3.9.12"
  }
 },
 "nbformat": 4,
 "nbformat_minor": 2
}
